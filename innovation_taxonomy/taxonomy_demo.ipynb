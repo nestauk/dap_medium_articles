{
 "cells": [
  {
   "cell_type": "code",
   "execution_count": 2,
   "id": "3dd422fa",
   "metadata": {},
   "outputs": [],
   "source": [
    "from getters import get_taxonomy, get_group_metadata\n",
    "import polars as pl\n",
    "import altair as alt"
   ]
  },
  {
   "cell_type": "markdown",
   "id": "44b37967",
   "metadata": {},
   "source": [
    "# Load and preview a taxonomy "
   ]
  },
  {
   "cell_type": "markdown",
   "id": "a7dbf28b",
   "metadata": {},
   "source": [
    "The taxonomy is saved as a polars dataframe containing the entire taxonomy. The taxonomy is nested, and the nesting structure is represented using \"_\". The top level (\"Level_1\") is represented as a single integer (cast as a string) (ex: '0'). All of the groups at the next level within group 0 would be represented as '0_1', '0_2', '0_3', etc.\n",
    "\n",
    "In many cases a grouping did not break down into all 5 levels (as described in the article). In this case, the previous level is cascaded throughout the taxonomy.\n",
    "\n",
    "The columns in the dataframe are:\n",
    "    <br> - Level_1: \"disciplines\" - represented by a single integer (cast as string) (ex: '0').\n",
    "    <br> - Level_2: \"domains\" - represented by up to two integers separated by _ (cast as string) (ex: '0_1')\n",
    "    <br> - Level_3: \"areas\" - represented by up to three integers separated by _ (cast as string) (ex: '0_1_1')\n",
    "    <br> - Level_4: \"topics\" - represented by up to four integers separated by _ (cast as string) (ex: '0_1_1_1')\n",
    "    <br> - Level_5: \"subtopics\" - represented by up to five integers separated by _ (cast as string) (ex: '0_1_1_1_1')\n",
    "    <br> - Entity: the Wikipedia entity being categorised"
   ]
  },
  {
   "cell_type": "code",
   "execution_count": 3,
   "id": "46913771",
   "metadata": {},
   "outputs": [
    {
     "data": {
      "text/html": [
       "<div>\n",
       "<style>\n",
       ".pl-dataframe > thead > tr > th {\n",
       "  text-align: right;\n",
       "}\n",
       "</style>\n",
       "\n",
       "<table border=\"1\" class=\"dataframe pl-dataframe\">\n",
       "<small>shape: (10, 6)</small>\n",
       "<thead>\n",
       "<tr>\n",
       "<th>\n",
       "Level_1\n",
       "</th>\n",
       "<th>\n",
       "Level_2\n",
       "</th>\n",
       "<th>\n",
       "Level_3\n",
       "</th>\n",
       "<th>\n",
       "Level_4\n",
       "</th>\n",
       "<th>\n",
       "Level_5\n",
       "</th>\n",
       "<th>\n",
       "Entity\n",
       "</th>\n",
       "</tr>\n",
       "<tr>\n",
       "<td>\n",
       "str\n",
       "</td>\n",
       "<td>\n",
       "str\n",
       "</td>\n",
       "<td>\n",
       "str\n",
       "</td>\n",
       "<td>\n",
       "str\n",
       "</td>\n",
       "<td>\n",
       "str\n",
       "</td>\n",
       "<td>\n",
       "str\n",
       "</td>\n",
       "</tr>\n",
       "</thead>\n",
       "<tbody>\n",
       "<tr>\n",
       "<td>\n",
       "&quot;0&quot;\n",
       "</td>\n",
       "<td>\n",
       "&quot;0_36&quot;\n",
       "</td>\n",
       "<td>\n",
       "&quot;0_36_16&quot;\n",
       "</td>\n",
       "<td>\n",
       "&quot;0_36_16&quot;\n",
       "</td>\n",
       "<td>\n",
       "&quot;0_36_16&quot;\n",
       "</td>\n",
       "<td>\n",
       "&quot;Superlens&quot;\n",
       "</td>\n",
       "</tr>\n",
       "<tr>\n",
       "<td>\n",
       "&quot;0&quot;\n",
       "</td>\n",
       "<td>\n",
       "&quot;0_53&quot;\n",
       "</td>\n",
       "<td>\n",
       "&quot;0_53_0&quot;\n",
       "</td>\n",
       "<td>\n",
       "&quot;0_53_0&quot;\n",
       "</td>\n",
       "<td>\n",
       "&quot;0_53_0&quot;\n",
       "</td>\n",
       "<td>\n",
       "&quot;Quinoline&quot;\n",
       "</td>\n",
       "</tr>\n",
       "<tr>\n",
       "<td>\n",
       "&quot;0&quot;\n",
       "</td>\n",
       "<td>\n",
       "&quot;0_60&quot;\n",
       "</td>\n",
       "<td>\n",
       "&quot;0_60_27&quot;\n",
       "</td>\n",
       "<td>\n",
       "&quot;0_60_27_2&quot;\n",
       "</td>\n",
       "<td>\n",
       "&quot;0_60_27_2&quot;\n",
       "</td>\n",
       "<td>\n",
       "&quot;Diimine&quot;\n",
       "</td>\n",
       "</tr>\n",
       "<tr>\n",
       "<td>\n",
       "&quot;0&quot;\n",
       "</td>\n",
       "<td>\n",
       "&quot;0_26&quot;\n",
       "</td>\n",
       "<td>\n",
       "&quot;0_26_12&quot;\n",
       "</td>\n",
       "<td>\n",
       "&quot;0_26_12_3&quot;\n",
       "</td>\n",
       "<td>\n",
       "&quot;0_26_12_3&quot;\n",
       "</td>\n",
       "<td>\n",
       "&quot;Hydrotrope&quot;\n",
       "</td>\n",
       "</tr>\n",
       "<tr>\n",
       "<td>\n",
       "&quot;0&quot;\n",
       "</td>\n",
       "<td>\n",
       "&quot;0_60&quot;\n",
       "</td>\n",
       "<td>\n",
       "&quot;0_60_7&quot;\n",
       "</td>\n",
       "<td>\n",
       "&quot;0_60_7_4&quot;\n",
       "</td>\n",
       "<td>\n",
       "&quot;0_60_7_4&quot;\n",
       "</td>\n",
       "<td>\n",
       "&quot;Trifluorometha...\n",
       "</td>\n",
       "</tr>\n",
       "<tr>\n",
       "<td>\n",
       "&quot;0&quot;\n",
       "</td>\n",
       "<td>\n",
       "&quot;0_57&quot;\n",
       "</td>\n",
       "<td>\n",
       "&quot;0_57_28&quot;\n",
       "</td>\n",
       "<td>\n",
       "&quot;0_57_28_0&quot;\n",
       "</td>\n",
       "<td>\n",
       "&quot;0_57_28_0&quot;\n",
       "</td>\n",
       "<td>\n",
       "&quot;Zirconium dibo...\n",
       "</td>\n",
       "</tr>\n",
       "<tr>\n",
       "<td>\n",
       "&quot;0&quot;\n",
       "</td>\n",
       "<td>\n",
       "&quot;0_54&quot;\n",
       "</td>\n",
       "<td>\n",
       "&quot;0_54_8&quot;\n",
       "</td>\n",
       "<td>\n",
       "&quot;0_54_8&quot;\n",
       "</td>\n",
       "<td>\n",
       "&quot;0_54_8&quot;\n",
       "</td>\n",
       "<td>\n",
       "&quot;Triple point&quot;\n",
       "</td>\n",
       "</tr>\n",
       "<tr>\n",
       "<td>\n",
       "&quot;0&quot;\n",
       "</td>\n",
       "<td>\n",
       "&quot;0_5&quot;\n",
       "</td>\n",
       "<td>\n",
       "&quot;0_5_13&quot;\n",
       "</td>\n",
       "<td>\n",
       "&quot;0_5_13_7&quot;\n",
       "</td>\n",
       "<td>\n",
       "&quot;0_5_13_7&quot;\n",
       "</td>\n",
       "<td>\n",
       "&quot;Francium&quot;\n",
       "</td>\n",
       "</tr>\n",
       "<tr>\n",
       "<td>\n",
       "&quot;0&quot;\n",
       "</td>\n",
       "<td>\n",
       "&quot;0_19&quot;\n",
       "</td>\n",
       "<td>\n",
       "&quot;0_19_3&quot;\n",
       "</td>\n",
       "<td>\n",
       "&quot;0_19_3&quot;\n",
       "</td>\n",
       "<td>\n",
       "&quot;0_19_3&quot;\n",
       "</td>\n",
       "<td>\n",
       "&quot;Melt blowing&quot;\n",
       "</td>\n",
       "</tr>\n",
       "<tr>\n",
       "<td>\n",
       "&quot;0&quot;\n",
       "</td>\n",
       "<td>\n",
       "&quot;0_48&quot;\n",
       "</td>\n",
       "<td>\n",
       "&quot;0_48_18&quot;\n",
       "</td>\n",
       "<td>\n",
       "&quot;0_48_18&quot;\n",
       "</td>\n",
       "<td>\n",
       "&quot;0_48_18&quot;\n",
       "</td>\n",
       "<td>\n",
       "&quot;Hydrodeoxygena...\n",
       "</td>\n",
       "</tr>\n",
       "</tbody>\n",
       "</table>\n",
       "</div>"
      ],
      "text/plain": [
       "shape: (10, 6)\n",
       "┌─────────┬─────────┬─────────┬───────────┬───────────┬────────────────────┐\n",
       "│ Level_1 ┆ Level_2 ┆ Level_3 ┆ Level_4   ┆ Level_5   ┆ Entity             │\n",
       "│ ---     ┆ ---     ┆ ---     ┆ ---       ┆ ---       ┆ ---                │\n",
       "│ str     ┆ str     ┆ str     ┆ str       ┆ str       ┆ str                │\n",
       "╞═════════╪═════════╪═════════╪═══════════╪═══════════╪════════════════════╡\n",
       "│ 0       ┆ 0_36    ┆ 0_36_16 ┆ 0_36_16   ┆ 0_36_16   ┆ Superlens          │\n",
       "│ 0       ┆ 0_53    ┆ 0_53_0  ┆ 0_53_0    ┆ 0_53_0    ┆ Quinoline          │\n",
       "│ 0       ┆ 0_60    ┆ 0_60_27 ┆ 0_60_27_2 ┆ 0_60_27_2 ┆ Diimine            │\n",
       "│ 0       ┆ 0_26    ┆ 0_26_12 ┆ 0_26_12_3 ┆ 0_26_12_3 ┆ Hydrotrope         │\n",
       "│ ...     ┆ ...     ┆ ...     ┆ ...       ┆ ...       ┆ ...                │\n",
       "│ 0       ┆ 0_54    ┆ 0_54_8  ┆ 0_54_8    ┆ 0_54_8    ┆ Triple point       │\n",
       "│ 0       ┆ 0_5     ┆ 0_5_13  ┆ 0_5_13_7  ┆ 0_5_13_7  ┆ Francium           │\n",
       "│ 0       ┆ 0_19    ┆ 0_19_3  ┆ 0_19_3    ┆ 0_19_3    ┆ Melt blowing       │\n",
       "│ 0       ┆ 0_48    ┆ 0_48_18 ┆ 0_48_18   ┆ 0_48_18   ┆ Hydrodeoxygenation │\n",
       "└─────────┴─────────┴─────────┴───────────┴───────────┴────────────────────┘"
      ]
     },
     "execution_count": 3,
     "metadata": {},
     "output_type": "execute_result"
    }
   ],
   "source": [
    "# preview the co-occurrence taxonomy\n",
    "taxonomy = get_taxonomy(\"cooccurrence\")\n",
    "taxonomy.head(10)"
   ]
  },
  {
   "cell_type": "markdown",
   "id": "6ffd7698",
   "metadata": {},
   "source": [
    "# Explore the Taxonomy\n",
    "View all entities within a certain taxonomy group. As the taxonomy is a polars dataframe you need to use polars syntax to manipulate it. The polars documentation for manipulating dataframes can be found [here](https://pola-rs.github.io/polars/py-polars/html/reference/dataframe/modify_select.html)"
   ]
  },
  {
   "cell_type": "code",
   "execution_count": 4,
   "id": "f3d8c73f",
   "metadata": {},
   "outputs": [
    {
     "data": {
      "text/plain": [
       "['Hydrotrope',\n",
       " 'Cocamidopropyl betaine',\n",
       " 'Sodium gluconate',\n",
       " 'Salicylanilide',\n",
       " 'Amphoterism',\n",
       " 'Humectant',\n",
       " 'Methylene bridge',\n",
       " 'Ultrahigh',\n",
       " 'Partial current',\n",
       " 'Kendrick mass',\n",
       " 'Homologous series',\n",
       " 'Organosulfate']"
      ]
     },
     "execution_count": 4,
     "metadata": {},
     "output_type": "execute_result"
    }
   ],
   "source": [
    "# view all entities within a specific level 3 (area) category\n",
    "list(taxonomy.filter(pl.col(\"Level_3\")==\"0_26_12\")[\"Entity\"])"
   ]
  },
  {
   "cell_type": "markdown",
   "id": "136c61f1",
   "metadata": {},
   "source": [
    "### Plot the distribution of the number of entities per group at different levels"
   ]
  },
  {
   "cell_type": "markdown",
   "id": "d9cb4fb4",
   "metadata": {},
   "source": [
    "This notebook uses the postprocessed cooccurrence taxonomy described in the article and is therefore relatively evenly distributed. Run the same code with the imbalanced or centroids taxonomies to compare. "
   ]
  },
  {
   "cell_type": "code",
   "execution_count": 5,
   "id": "12f77eae",
   "metadata": {},
   "outputs": [
    {
     "data": {
      "text/html": [
       "\n",
       "<div id=\"altair-viz-ab8b0a7490e54d1092cca2f550ffaf7e\"></div>\n",
       "<script type=\"text/javascript\">\n",
       "  var VEGA_DEBUG = (typeof VEGA_DEBUG == \"undefined\") ? {} : VEGA_DEBUG;\n",
       "  (function(spec, embedOpt){\n",
       "    let outputDiv = document.currentScript.previousElementSibling;\n",
       "    if (outputDiv.id !== \"altair-viz-ab8b0a7490e54d1092cca2f550ffaf7e\") {\n",
       "      outputDiv = document.getElementById(\"altair-viz-ab8b0a7490e54d1092cca2f550ffaf7e\");\n",
       "    }\n",
       "    const paths = {\n",
       "      \"vega\": \"https://cdn.jsdelivr.net/npm//vega@5?noext\",\n",
       "      \"vega-lib\": \"https://cdn.jsdelivr.net/npm//vega-lib?noext\",\n",
       "      \"vega-lite\": \"https://cdn.jsdelivr.net/npm//vega-lite@4.17.0?noext\",\n",
       "      \"vega-embed\": \"https://cdn.jsdelivr.net/npm//vega-embed@6?noext\",\n",
       "    };\n",
       "\n",
       "    function maybeLoadScript(lib, version) {\n",
       "      var key = `${lib.replace(\"-\", \"\")}_version`;\n",
       "      return (VEGA_DEBUG[key] == version) ?\n",
       "        Promise.resolve(paths[lib]) :\n",
       "        new Promise(function(resolve, reject) {\n",
       "          var s = document.createElement('script');\n",
       "          document.getElementsByTagName(\"head\")[0].appendChild(s);\n",
       "          s.async = true;\n",
       "          s.onload = () => {\n",
       "            VEGA_DEBUG[key] = version;\n",
       "            return resolve(paths[lib]);\n",
       "          };\n",
       "          s.onerror = () => reject(`Error loading script: ${paths[lib]}`);\n",
       "          s.src = paths[lib];\n",
       "        });\n",
       "    }\n",
       "\n",
       "    function showError(err) {\n",
       "      outputDiv.innerHTML = `<div class=\"error\" style=\"color:red;\">${err}</div>`;\n",
       "      throw err;\n",
       "    }\n",
       "\n",
       "    function displayChart(vegaEmbed) {\n",
       "      vegaEmbed(outputDiv, spec, embedOpt)\n",
       "        .catch(err => showError(`Javascript Error: ${err.message}<br>This usually means there's a typo in your chart specification. See the javascript console for the full traceback.`));\n",
       "    }\n",
       "\n",
       "    if(typeof define === \"function\" && define.amd) {\n",
       "      requirejs.config({paths});\n",
       "      require([\"vega-embed\"], displayChart, err => showError(`Error loading script: ${err.message}`));\n",
       "    } else {\n",
       "      maybeLoadScript(\"vega\", \"5\")\n",
       "        .then(() => maybeLoadScript(\"vega-lite\", \"4.17.0\"))\n",
       "        .then(() => maybeLoadScript(\"vega-embed\", \"6\"))\n",
       "        .catch(showError)\n",
       "        .then(() => displayChart(vegaEmbed));\n",
       "    }\n",
       "  })({\"config\": {\"view\": {\"continuousWidth\": 400, \"continuousHeight\": 300}}, \"data\": {\"name\": \"data-175374f4a90ee7f7a9a8086441a39c75\"}, \"mark\": \"bar\", \"encoding\": {\"x\": {\"field\": \"Level_1\", \"title\": \"Discipline\", \"type\": \"nominal\"}, \"y\": {\"field\": \"counts\", \"title\": \"number of entities in the Discipline\", \"type\": \"quantitative\"}}, \"$schema\": \"https://vega.github.io/schema/vega-lite/v4.17.0.json\", \"datasets\": {\"data-175374f4a90ee7f7a9a8086441a39c75\": [{\"Level_1\": \"21\", \"counts\": 9467}, {\"Level_1\": \"13\", \"counts\": 1493}, {\"Level_1\": \"15\", \"counts\": 9922}, {\"Level_1\": \"12\", \"counts\": 17604}, {\"Level_1\": \"0\", \"counts\": 8463}, {\"Level_1\": \"22\", \"counts\": 6129}, {\"Level_1\": \"11\", \"counts\": 1610}, {\"Level_1\": \"20\", \"counts\": 5887}, {\"Level_1\": \"25\", \"counts\": 3625}, {\"Level_1\": \"26\", \"counts\": 341}]}}, {\"mode\": \"vega-lite\"});\n",
       "</script>"
      ],
      "text/plain": [
       "alt.Chart(...)"
      ]
     },
     "execution_count": 5,
     "metadata": {},
     "output_type": "execute_result"
    }
   ],
   "source": [
    "source = taxonomy[\"Level_1\"].value_counts().to_pandas()\n",
    "alt.Chart(source).mark_bar().encode(\n",
    "    x = alt.X(\"Level_1\", title = \"Discipline\"),\n",
    "    y = alt.Y(\"counts\", title = \"number of entities in the Discipline\"))"
   ]
  },
  {
   "cell_type": "code",
   "execution_count": 6,
   "id": "efd31e3f",
   "metadata": {},
   "outputs": [
    {
     "data": {
      "text/html": [
       "\n",
       "<div id=\"altair-viz-5ee13b4811b049318cc2eb55d389f946\"></div>\n",
       "<script type=\"text/javascript\">\n",
       "  var VEGA_DEBUG = (typeof VEGA_DEBUG == \"undefined\") ? {} : VEGA_DEBUG;\n",
       "  (function(spec, embedOpt){\n",
       "    let outputDiv = document.currentScript.previousElementSibling;\n",
       "    if (outputDiv.id !== \"altair-viz-5ee13b4811b049318cc2eb55d389f946\") {\n",
       "      outputDiv = document.getElementById(\"altair-viz-5ee13b4811b049318cc2eb55d389f946\");\n",
       "    }\n",
       "    const paths = {\n",
       "      \"vega\": \"https://cdn.jsdelivr.net/npm//vega@5?noext\",\n",
       "      \"vega-lib\": \"https://cdn.jsdelivr.net/npm//vega-lib?noext\",\n",
       "      \"vega-lite\": \"https://cdn.jsdelivr.net/npm//vega-lite@4.17.0?noext\",\n",
       "      \"vega-embed\": \"https://cdn.jsdelivr.net/npm//vega-embed@6?noext\",\n",
       "    };\n",
       "\n",
       "    function maybeLoadScript(lib, version) {\n",
       "      var key = `${lib.replace(\"-\", \"\")}_version`;\n",
       "      return (VEGA_DEBUG[key] == version) ?\n",
       "        Promise.resolve(paths[lib]) :\n",
       "        new Promise(function(resolve, reject) {\n",
       "          var s = document.createElement('script');\n",
       "          document.getElementsByTagName(\"head\")[0].appendChild(s);\n",
       "          s.async = true;\n",
       "          s.onload = () => {\n",
       "            VEGA_DEBUG[key] = version;\n",
       "            return resolve(paths[lib]);\n",
       "          };\n",
       "          s.onerror = () => reject(`Error loading script: ${paths[lib]}`);\n",
       "          s.src = paths[lib];\n",
       "        });\n",
       "    }\n",
       "\n",
       "    function showError(err) {\n",
       "      outputDiv.innerHTML = `<div class=\"error\" style=\"color:red;\">${err}</div>`;\n",
       "      throw err;\n",
       "    }\n",
       "\n",
       "    function displayChart(vegaEmbed) {\n",
       "      vegaEmbed(outputDiv, spec, embedOpt)\n",
       "        .catch(err => showError(`Javascript Error: ${err.message}<br>This usually means there's a typo in your chart specification. See the javascript console for the full traceback.`));\n",
       "    }\n",
       "\n",
       "    if(typeof define === \"function\" && define.amd) {\n",
       "      requirejs.config({paths});\n",
       "      require([\"vega-embed\"], displayChart, err => showError(`Error loading script: ${err.message}`));\n",
       "    } else {\n",
       "      maybeLoadScript(\"vega\", \"5\")\n",
       "        .then(() => maybeLoadScript(\"vega-lite\", \"4.17.0\"))\n",
       "        .then(() => maybeLoadScript(\"vega-embed\", \"6\"))\n",
       "        .catch(showError)\n",
       "        .then(() => displayChart(vegaEmbed));\n",
       "    }\n",
       "  })({\"config\": {\"view\": {\"continuousWidth\": 400, \"continuousHeight\": 300}}, \"data\": {\"name\": \"data-829db7e08d09007d9d7f560546b3bddb\"}, \"mark\": \"bar\", \"encoding\": {\"x\": {\"field\": \"Level_2\", \"title\": \"Domain\", \"type\": \"nominal\"}, \"y\": {\"field\": \"counts\", \"title\": \"number of entities in the Domain\", \"type\": \"quantitative\"}}, \"$schema\": \"https://vega.github.io/schema/vega-lite/v4.17.0.json\", \"datasets\": {\"data-829db7e08d09007d9d7f560546b3bddb\": [{\"Level_2\": \"13_30\", \"counts\": 1}, {\"Level_2\": \"13_39\", \"counts\": 5}, {\"Level_2\": \"13_35\", \"counts\": 39}, {\"Level_2\": \"13_4\", \"counts\": 5}, {\"Level_2\": \"13_44\", \"counts\": 46}, {\"Level_2\": \"13_29\", \"counts\": 17}, {\"Level_2\": \"13_42\", \"counts\": 63}, {\"Level_2\": \"13_33\", \"counts\": 21}, {\"Level_2\": \"13_20\", \"counts\": 43}, {\"Level_2\": \"13_27\", \"counts\": 53}, {\"Level_2\": \"13_31\", \"counts\": 60}, {\"Level_2\": \"13_40\", \"counts\": 28}, {\"Level_2\": \"13_46\", \"counts\": 17}, {\"Level_2\": \"13_3\", \"counts\": 8}, {\"Level_2\": \"13_28\", \"counts\": 2}, {\"Level_2\": \"13_23\", \"counts\": 23}, {\"Level_2\": \"13_32\", \"counts\": 11}, {\"Level_2\": \"13_12\", \"counts\": 64}, {\"Level_2\": \"13_9\", \"counts\": 31}, {\"Level_2\": \"13_17\", \"counts\": 16}, {\"Level_2\": \"13_1\", \"counts\": 55}, {\"Level_2\": \"13_21\", \"counts\": 11}, {\"Level_2\": \"13_5\", \"counts\": 18}, {\"Level_2\": \"13_34\", \"counts\": 15}, {\"Level_2\": \"13_43\", \"counts\": 25}, {\"Level_2\": \"13_26\", \"counts\": 16}, {\"Level_2\": \"13_6\", \"counts\": 80}, {\"Level_2\": \"13_11\", \"counts\": 27}, {\"Level_2\": \"13_18\", \"counts\": 72}, {\"Level_2\": \"13_0\", \"counts\": 25}, {\"Level_2\": \"13_2\", \"counts\": 8}, {\"Level_2\": \"13_45\", \"counts\": 1}, {\"Level_2\": \"13_24\", \"counts\": 12}, {\"Level_2\": \"13_36\", \"counts\": 40}, {\"Level_2\": \"13_14\", \"counts\": 56}, {\"Level_2\": \"13_10\", \"counts\": 11}, {\"Level_2\": \"13_22\", \"counts\": 2}, {\"Level_2\": \"13_38\", \"counts\": 152}, {\"Level_2\": \"13_16\", \"counts\": 29}, {\"Level_2\": \"13_15\", \"counts\": 51}, {\"Level_2\": \"13_19\", \"counts\": 20}, {\"Level_2\": \"13_7\", \"counts\": 39}, {\"Level_2\": \"13_13\", \"counts\": 9}, {\"Level_2\": \"13_47\", \"counts\": 14}, {\"Level_2\": \"13_41\", \"counts\": 7}, {\"Level_2\": \"13_8\", \"counts\": 57}, {\"Level_2\": \"13_25\", \"counts\": 88}]}}, {\"mode\": \"vega-lite\"});\n",
       "</script>"
      ],
      "text/plain": [
       "alt.Chart(...)"
      ]
     },
     "execution_count": 6,
     "metadata": {},
     "output_type": "execute_result"
    }
   ],
   "source": [
    "source = taxonomy.filter(pl.col(\"Level_1\")==\"13\")[\"Level_2\"].value_counts().to_pandas()\n",
    "alt.Chart(source).mark_bar().encode(\n",
    "    x = alt.X(\"Level_2\", title = \"Domain\"),\n",
    "    y = alt.Y(\"counts\", title = \"number of entities in the Domain\"))"
   ]
  },
  {
   "cell_type": "markdown",
   "id": "9365966e",
   "metadata": {},
   "source": [
    "# Explore taxonomy group names"
   ]
  },
  {
   "cell_type": "markdown",
   "id": "acc7ab7b",
   "metadata": {},
   "source": [
    "We provide the names of a taxonomy at a given level using either the top 5 entities in documents in our training corpus or chatgpt (as described in the article.) Names are only provided for the co-occurrence taxonomy at the top 3 levels (disciplines, areas, domains). \n",
    "\n",
    "<br> \n",
    "If using **chatgpt naming**, we provide: \n",
    "<br> - \"name\": name of group (ex: 'Analytical chemistry')\n",
    "<br> - \"confidence\": confidence score for name provided by chatgpt (out of 100)\n",
    "<br> - \"discard\": any entities that made the naming ambiguous for chatgpt and were discarded (ex: ['John Wiley & Sons'])\n",
    "<br>\n",
    "If using **entity naming**, we provide the top 5 most frequent entities in the group (where counts come from count of documents containing that entity in our training corpus) "
   ]
  },
  {
   "cell_type": "code",
   "execution_count": 8,
   "id": "5b7d9531",
   "metadata": {},
   "outputs": [],
   "source": [
    "#load both name types (disciplines)\n",
    "chatgpt_discipline_names = get_group_metadata(level = 1, name_type = \"chatgpt\")\n",
    "entity_discipline_names = get_group_metadata(level = 1, name_type = \"entities\")"
   ]
  },
  {
   "cell_type": "markdown",
   "id": "56264756",
   "metadata": {},
   "source": [
    "### Look at the names for the discipline plotted above (discipline 13)"
   ]
  },
  {
   "cell_type": "code",
   "execution_count": 9,
   "id": "c6748ccc",
   "metadata": {},
   "outputs": [
    {
     "name": "stdout",
     "output_type": "stream",
     "text": [
      "Naming provided by chatgpt: {'name': 'Wildlife and Diseases', 'confidence': 100, 'discard': None}\n",
      "\n",
      "Most frequent entities in the corpus in this category: Parasitism, Wildlife, Zoonosis, Primate, Nematode\n"
     ]
    }
   ],
   "source": [
    "print(\"Naming provided by chatgpt: {}\".format(chatgpt_discipline_names[\"13\"]))\n",
    "print()\n",
    "print(\"Most frequent entities in the corpus in this category: {}\".format(entity_discipline_names[\"13\"]))"
   ]
  },
  {
   "cell_type": "markdown",
   "id": "8c7c049f",
   "metadata": {},
   "source": [
    "### Look at the names for several of the domains within discipline 13"
   ]
  },
  {
   "cell_type": "code",
   "execution_count": 10,
   "id": "93e05ffb",
   "metadata": {},
   "outputs": [],
   "source": [
    "chatgpt_domain_names = get_group_metadata(level = 2, name_type = \"chatgpt\")\n",
    "entity_domain_names = get_group_metadata(level = 2, name_type = \"entities\")"
   ]
  },
  {
   "cell_type": "code",
   "execution_count": 11,
   "id": "426d4b8c",
   "metadata": {},
   "outputs": [
    {
     "name": "stdout",
     "output_type": "stream",
     "text": [
      "Naming provided by chatgpt: {'name': 'Influenza', 'confidence': 100, 'discard': None}\n",
      "\n",
      "Most frequent entities in the corpus in this category: Influenza A virus subtype H1N1, Hemagglutinin, Influenza A virus subtype H5N1, Influenza A virus subtype H3N2, Avian influenza\n"
     ]
    }
   ],
   "source": [
    "#taxonomy group 13_12\n",
    "print(\"Naming provided by chatgpt: {}\".format(chatgpt_domain_names['13_12']))\n",
    "print()\n",
    "print(\"Most frequent entities in the corpus in this category: {}\".format(entity_domain_names[\"13_12\"]))"
   ]
  },
  {
   "cell_type": "code",
   "execution_count": 12,
   "id": "d5798b59",
   "metadata": {},
   "outputs": [
    {
     "name": "stdout",
     "output_type": "stream",
     "text": [
      "Naming provided by chatgpt: {'name': 'Parasitic diseases and treatments', 'confidence': 100, 'discard': None}\n",
      "\n",
      "Most frequent entities in the corpus in this category: Parasitism, Helminths, Schistosomiasis, Neglected tropical diseases, Anthelmintic\n"
     ]
    }
   ],
   "source": [
    "#taxonomy group 13_38\n",
    "print(\"Naming provided by chatgpt: {}\".format(chatgpt_domain_names['13_38']))\n",
    "print()\n",
    "print(\"Most frequent entities in the corpus in this category: {}\".format(entity_domain_names[\"13_38\"]))"
   ]
  }
 ],
 "metadata": {
  "kernelspec": {
   "display_name": "Python 3 (ipykernel)",
   "language": "python",
   "name": "python3"
  },
  "language_info": {
   "codemirror_mode": {
    "name": "ipython",
    "version": 3
   },
   "file_extension": ".py",
   "mimetype": "text/x-python",
   "name": "python",
   "nbconvert_exporter": "python",
   "pygments_lexer": "ipython3",
   "version": "3.8.0"
  }
 },
 "nbformat": 4,
 "nbformat_minor": 5
}
